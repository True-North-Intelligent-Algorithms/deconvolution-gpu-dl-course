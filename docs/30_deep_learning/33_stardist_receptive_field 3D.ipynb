{
 "cells": [
  {
   "cell_type": "markdown",
   "metadata": {},
   "source": [
    "## Stardist compute receptive field (3D)\n",
    "\n",
    "NOTE: This is similar to the ```stardist_receptive_field_2D``` example.  It is not the 'dryest' approach to have two very similar notebooks, however since the notebooks for the course are also used to prototype and choose the network parameters, I think it is useful to have the 3D version separate (so someone can run it and understand it without it being cluttered with if statements).\n",
    "\n",
    "Also there are memory-related issues when trying to test very large 3D networks on GPUs thus it is better to run this notebook on a CPU if a large GPU is not available. \n",
    "\n",
    "When trying to train a stardist model it is useful to check if the configured neural network has a large enough field of view to detect the objects in the images.  This [stardist 3D training example notebook](https://github.com/stardist/stardist/blob/master/examples/3D/2_training.ipynb) from the ```stardist``` github repo, is a great starting point for creating customized stardist workflows.  It contains the below code snippet to calculate the network field of view.\n",
    "\n",
    "```\n",
    "median_size = calculate_extents(Y, np.median)\n",
    "fov = np.array(model._axes_tile_overlap('ZYX'))\n",
    "print(f\"median object size:      {median_size}\")\n",
    "print(f\"network field of view :  {fov}\")\n",
    "if any(median_size > fov):\n",
    "    print(\"WARNING: median object size larger than field of view of the neural network.\")\n",
    "```\n",
    "\n",
    "A small issue, it may make more sense to calculate the max extent, rather than median.  Another issue is that the field of view appears to max out at 32 in all dimensions.  Try creating a network that has a larger field of view and you still get 32.\n",
    "\n",
    "This notebook looks into the stardist 'field of view' calculation in a little more detail, with the goal to compute larger 3D field of view values. "
   ]
  },
  {
   "cell_type": "markdown",
   "metadata": {},
   "source": [
    "### First our imports"
   ]
  },
  {
   "cell_type": "code",
   "execution_count": 1,
   "metadata": {},
   "outputs": [],
   "source": [
    "from stardist.models import Config3D, StarDist3D\n",
    "import raster_geometry as rg\n",
    "from stardist import Rays_GoldenSpiral, Rays_Octo\n",
    "from tnia.plotting.projections import show_xy_zy_max\n",
    "from stardist import calculate_extents\n",
    "import numpy as np\n",
    "import matplotlib.pyplot as plt\n",
    "import tensorflow as tf"
   ]
  },
  {
   "cell_type": "markdown",
   "metadata": {},
   "source": [
    "### Make GPU invisible to tensorflow\n",
    "\n",
    "We do this because (as is shown downstream in this notebook) the receptive field calculation can use a lot of GPU memory when calculating large RFs, and sometimes the GPU crashes.  The CPU has more memory, so we use it (even though the calculation will take a bit longer)."
   ]
  },
  {
   "cell_type": "code",
   "execution_count": 2,
   "metadata": {},
   "outputs": [],
   "source": [
    "tf.config.set_visible_devices([], 'GPU')"
   ]
  },
  {
   "cell_type": "markdown",
   "metadata": {},
   "source": [
    "## Create a 3D simulated object\n",
    "\n",
    "This is just a circle and a sphere.  Make the sphere bigger if you want to design a network for bigger objects.  In a real project we'd have labels with many objects in them.  Here we just use this very simple 'label' as an example of the biggest object we want the system to handle.  "
   ]
  },
  {
   "cell_type": "code",
   "execution_count": 3,
   "metadata": {},
   "outputs": [
    {
     "name": "stdout",
     "output_type": "stream",
     "text": [
      "xy_pixels_radius 100, z_pixels_radius, 33\n"
     ]
    },
    {
     "data": {
      "text/plain": [
       "Text(0.5, 0.98, 'ellipsoid')"
      ]
     },
     "execution_count": 3,
     "metadata": {},
     "output_type": "execute_result"
    },
    {
     "data": {
      "image/png": "[encoded data removed]",
      "text/plain": [
       "<Figure size 700x400 with 2 Axes>"
      ]
     },
     "metadata": {},
     "output_type": "display_data"
    }
   ],
   "source": [
    "radius = 100\n",
    "image_size = [256, 512, 512]\n",
    "\n",
    "xy_spacing = 1\n",
    "z_spacing = 3\n",
    "\n",
    "xy_pixels_radius = int(radius / xy_spacing)\n",
    "z_pixels_radius = int(radius / z_spacing)\n",
    "\n",
    "print(f'xy_pixels_radius {xy_pixels_radius}, z_pixels_radius, {z_pixels_radius}')\n",
    "\n",
    "ellipsoid = rg.ellipsoid(image_size, [z_pixels_radius, xy_pixels_radius, xy_pixels_radius]).astype('uint8')\n",
    "\n",
    "fig = show_xy_zy_max(ellipsoid, sxy=xy_spacing, sz=z_spacing, figsize=(7,4))\n",
    "fig.suptitle('ellipsoid')"
   ]
  },
  {
   "cell_type": "markdown",
   "metadata": {},
   "source": [
    "### Calculate the extent and anisotropy of our sphere"
   ]
  },
  {
   "cell_type": "code",
   "execution_count": 4,
   "metadata": {},
   "outputs": [
    {
     "name": "stdout",
     "output_type": "stream",
     "text": [
      "extends 3D [ 66. 200. 200.]\n",
      "anisotropy 3D (3.0303030303030303, 1.0, 1.0)\n"
     ]
    }
   ],
   "source": [
    "extents = calculate_extents(ellipsoid)\n",
    "anisotropy = tuple(np.max(extents) / extents)\n",
    "\n",
    "print('extends 3D',extents)\n",
    "print('anisotropy 3D',anisotropy)"
   ]
  },
  {
   "cell_type": "markdown",
   "metadata": {},
   "source": [
    "### Design a stardist 3D network\n",
    "\n",
    "We make the model_name 'delete me' because we aren't going to train it or anything, so we want delete it after we are done. Then we need to define the ```grid```, ```unet_kernel_size```, and ```depth```.  These parameters determine the receptive field. \n",
    "\n",
    "1.  A larger 'grid' means the filter takes a larger stride at the first level, thus 'see's more'\n",
    "2.  A larger kernel size means the network 'see's more' at each level.\n",
    "3.  At each level the images are downsampled, which means when we apply the kernels at that level they porcess information from a larger spatial extent.  \n"
   ]
  },
  {
   "cell_type": "code",
   "execution_count": 5,
   "metadata": {},
   "outputs": [
    {
     "name": "stderr",
     "output_type": "stream",
     "text": [
      "base_model.py (149): output path for model already exists, files may be overwritten: C:\\Users\\bnort\\work\\ImageJ2022\\tnia\\deconvolution-gpu-dl-course\\docs\\30_deep_learning\\models\\delete me 3D\n"
     ]
    },
    {
     "name": "stdout",
     "output_type": "stream",
     "text": [
      "Using default values: prob_thresh=0.5, nms_thresh=0.4.\n"
     ]
    }
   ],
   "source": [
    "rays = Rays_Octo(n_level=1) \n",
    "\n",
    "model_name = 'delete me 3D'\n",
    "grid = (1,1,1)\n",
    "unet_kernel_size=3, 3, 3\n",
    "unet_n_filter_base = 3\n",
    "depth = 3\n",
    "n_channel_in =1\n",
    "axes = 'ZYX'\n",
    "\n",
    "config = Config3D (rays=rays, axes=axes,n_channel_in=1, train_patch_size = (32,128,128), anisotropy=anisotropy, grid=grid, unet_n_depth=depth, unet_kernel_size=unet_kernel_size, unet_n_filter_base=unet_n_filter_base)\n",
    "\n",
    "model = StarDist3D(config=config, name=model_name, basedir='models')\n"
   ]
  },
  {
   "cell_type": "markdown",
   "metadata": {},
   "source": [
    "### Apply the example 'field of view' code\n",
    "\n",
    "Note we make a couple of changes.  First we use max size instead of median.  Second we also compute receptive field.  \n",
    "\n",
    "```\n",
    "rf = model._compute_receptive_field(img_size=(256, 512, 512))\n",
    "```\n",
    "\n",
    "In retrospect it was a bit strange that we use a function called ```_axes_tile_overlap``` to calculate receptive field.  However if you inspect the code, ```_axes_tile_overlap``` did wrap ```_compute_receptive_field```.  However using ```_compute_receptive_field``` directly allows us to input an ```img_size```.\n",
    "\n",
    "That is really important.  Stardist calculates the receptive field by applying the real network and empirically measuring how much of the result contains 'information'.  If you use a small image size like 64, 64, 64 the entire image will contain information.  Basically you need to make your ```img_size``` larger than the receptive field you expect."
   ]
  },
  {
   "cell_type": "code",
   "execution_count": 6,
   "metadata": {},
   "outputs": [
    {
     "name": "stdout",
     "output_type": "stream",
     "text": [
      "max object size:      [ 33. 100. 100.]\n",
      "network field of view :  [32 32 32]\n",
      "receptive field :  [(47, 46), (47, 46), (47, 46)]\n"
     ]
    }
   ],
   "source": [
    "max_size = calculate_extents(ellipsoid, np.max)\n",
    "fov = np.array(model._axes_tile_overlap('ZYX'))\n",
    "rf = model._compute_receptive_field(img_size=(256, 512, 512))\n",
    "print(f\"max object size:      {max_size/2}\")\n",
    "print(f\"network field of view :  {fov}\")\n",
    "print(f\"receptive field :  {rf}\")\n",
    "#if any(max_size > rf):\n",
    "#    print(\"WARNING: max object size larger than field of view of the neural network.\")"
   ]
  },
  {
   "cell_type": "markdown",
   "metadata": {},
   "source": [
    "### Look at the receptive filed function step by step\n",
    "\n",
    "1.  It generates two images, an empty image, and an impulse response.  This is really cool.   An impulse response is how engineers measure the Point Spread Function of a system.  Note that for a neural network the impulse response is non-linear, however we aren't concerned about the exact shape (this network hasn't even been trained) but only concerned about 'how far' information propagates. "
   ]
  },
  {
   "cell_type": "code",
   "execution_count": 7,
   "metadata": {},
   "outputs": [],
   "source": [
    "img_size = (256, 512, 512)\n",
    "mid = tuple(s//2 for s in img_size)\n",
    "x = np.zeros((1,)+img_size+(1,), dtype=np.float32)\n",
    "z = np.zeros_like(x)\n",
    "x[(0,)+mid+(slice(None),)] = 1"
   ]
  },
  {
   "cell_type": "markdown",
   "metadata": {},
   "source": [
    "## Make predictions with our inputs\n",
    "\n",
    "Our inputs are an impulse and an empty image, the output is the 'impulse response' and the offset."
   ]
  },
  {
   "cell_type": "code",
   "execution_count": 8,
   "metadata": {},
   "outputs": [],
   "source": [
    "y  = model.keras_model.predict(x, verbose=0)[0][0,...,0]\n",
    "y0 = model.keras_model.predict(z, verbose=0)[0][0,...,0]\n",
    "dif = np.abs(y-y0)"
   ]
  },
  {
   "cell_type": "markdown",
   "metadata": {},
   "source": [
    "### calculate distance information 'flowed'"
   ]
  },
  {
   "cell_type": "code",
   "execution_count": 20,
   "metadata": {},
   "outputs": [
    {
     "name": "stdout",
     "output_type": "stream",
     "text": [
      "(1, 1, 1)\n",
      "81 174 47 46\n",
      "209 302 47 46\n",
      "209 302 47 46\n"
     ]
    }
   ],
   "source": [
    "from scipy.ndimage import zoom\n",
    "print(grid)\n",
    "yz  = zoom(y, grid,order=0)\n",
    "y0z = zoom(y0,grid,order=0)\n",
    "ind = np.where(np.abs(y-y0)>0)\n",
    "\n",
    "mid = tuple(s//2 for s in img_size)\n",
    "\n",
    "for i,m in zip(ind,mid):\n",
    "     print(np.min(i), np.max(i), m-np.min(i), np.max(i)-m)\n"
   ]
  },
  {
   "cell_type": "markdown",
   "metadata": {},
   "source": [
    "## View in Napari\n",
    "\n",
    "We look at the 'dif' image as it shows us what parts of the image have information that is different than the constant value resulting form an empty input. "
   ]
  },
  {
   "cell_type": "code",
   "execution_count": 21,
   "metadata": {},
   "outputs": [
    {
     "name": "stderr",
     "output_type": "stream",
     "text": [
      "napari.manifest -> 'napari-hello' could not be imported: Cannot find module 'napari_plugins' declared in entrypoint: 'napari_plugins:napari.yaml'\n"
     ]
    },
    {
     "data": {
      "text/plain": [
       "<Labels layer 'ellipsoid' at 0x1c56c4a5520>"
      ]
     },
     "execution_count": 21,
     "metadata": {},
     "output_type": "execute_result"
    }
   ],
   "source": [
    "import napari\n",
    "viewer = napari.Viewer()\n",
    "viewer.add_image(dif.squeeze()>0, name='dif')\n",
    "viewer.add_labels(ellipsoid, name='ellipsoid')"
   ]
  },
  {
   "cell_type": "code",
   "execution_count": 30,
   "metadata": {},
   "outputs": [
    {
     "data": {
      "text/plain": [
       "(256, 256, 256)"
      ]
     },
     "execution_count": 30,
     "metadata": {},
     "output_type": "execute_result"
    }
   ],
   "source": [
    "dif.shape"
   ]
  },
  {
   "cell_type": "code",
   "execution_count": null,
   "metadata": {},
   "outputs": [],
   "source": []
  }
 ],
 "metadata": {
  "kernelspec": {
   "display_name": "dresden-decon-test1",
   "language": "python",
   "name": "python3"
  },
  "language_info": {
   "codemirror_mode": {
    "name": "ipython",
    "version": 3
   },
   "file_extension": ".py",
   "mimetype": "text/x-python",
   "name": "python",
   "nbconvert_exporter": "python",
   "pygments_lexer": "ipython3",
   "version": "3.9.16"
  }
 },
 "nbformat": 4,
 "nbformat_minor": 2
}
